{
 "cells": [
  {
   "cell_type": "code",
   "execution_count": 1,
   "metadata": {
    "collapsed": false
   },
   "outputs": [
    {
     "name": "stdout",
     "output_type": "stream",
     "text": [
      "33583\n"
     ]
    }
   ],
   "source": [
    "test = [100756]\n",
    "total = 0\n",
    "\n",
    "for m in test:\n",
    "    total += m//3 - 2\n",
    "    print(total)\n",
    "    "
   ]
  },
  {
   "cell_type": "code",
   "execution_count": 2,
   "metadata": {
    "collapsed": false
   },
   "outputs": [
    {
     "name": "stdout",
     "output_type": "stream",
     "text": [
      "3404722\n"
     ]
    }
   ],
   "source": [
    "actual = [129561, 125433, 97919, 93037, 73254, 96511, 115676, \n",
    "95032, 69369, 145385, 111145, 64368, 83462, 95765, 133284, \n",
    "136563, 67439, 69311, 147720, 92632, 142940, 100610, 106538, \n",
    "80025, 121672, 125386, 126601, 67943, 120022, 95914, 132721, \n",
    "105831, 138493, 57649, 72843, 81754, 103116, 148993, 139042, \n",
    "145929, 61039, 126034, 74187, 60750, 99048, 131776, 123137, \n",
    "113098, 107571, 117050, 108649, 117455, 147443, 121863, 104952, \n",
    "103465, 128718, 61795, 121049, 112010, 74403, 56153, 136161, \n",
    "76872, 94156, 131477, 91769, 90744, 118647, 135791, 98914, \n",
    "104988, 62070, 82308, 71964, 91477, 63733, 84412, 127000, \n",
    "65449, 67976, 51400, 56045, 82951, 101119, 143015, 99388, \n",
    "51796, 93467, 63220, 124459, 136330, 130535, 144270, 88616, \n",
    "63626, 139954, 92191, 117618, 110422]\n",
    "\n",
    "total = 0\n",
    "for m in actual:\n",
    "    total += m//3 - 2\n",
    "print(total)"
   ]
  },
  {
   "cell_type": "code",
   "execution_count": 10,
   "metadata": {
    "collapsed": false
   },
   "outputs": [
    {
     "name": "stdout",
     "output_type": "stream",
     "text": [
      "5104215\n"
     ]
    }
   ],
   "source": [
    "test = [1969]\n",
    "fuel = 0\n",
    "for m in actual:\n",
    "    addMass = m\n",
    "    addFuel = addMass//3 - 2\n",
    "    while addFuel > 0:\n",
    "        fuel += addFuel\n",
    "        addFuel = addFuel//3 - 2\n",
    "print(fuel)"
   ]
  },
  {
   "cell_type": "code",
   "execution_count": null,
   "metadata": {
    "collapsed": true
   },
   "outputs": [],
   "source": []
  }
 ],
 "metadata": {
  "kernelspec": {
   "display_name": "Python 3",
   "language": "python",
   "name": "python3"
  },
  "language_info": {
   "codemirror_mode": {
    "name": "ipython",
    "version": 3
   },
   "file_extension": ".py",
   "mimetype": "text/x-python",
   "name": "python",
   "nbconvert_exporter": "python",
   "pygments_lexer": "ipython3",
   "version": "3.6.0"
  }
 },
 "nbformat": 4,
 "nbformat_minor": 2
}
